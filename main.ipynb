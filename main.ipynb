{
 "cells": [
  {
   "cell_type": "markdown",
   "metadata": {},
   "source": [
    "# Getting Started with Pytorch\n",
    "First, we import Pytorch: "
   ]
  },
  {
   "cell_type": "code",
   "execution_count": 1,
   "metadata": {},
   "outputs": [
    {
     "data": {
      "text/plain": [
       "'2.2.0+cu118'"
      ]
     },
     "execution_count": 1,
     "metadata": {},
     "output_type": "execute_result"
    }
   ],
   "source": [
    "import torch\n",
    "torch.__version__"
   ]
  },
  {
   "cell_type": "markdown",
   "metadata": {},
   "source": [
    "Yay, we have it imported.\n",
    "\n",
    "## Tensors\n",
    "### Intro to Tensors\n",
    "Tensors are the fundamental building blocks of Neural Networks. Essentially, they represent the data we wish to analyze in a numerical format; primarily, they achieve this using multidimensional arrays for more complex tasks. For example, an image could be a tensor with two dimensions corresponding to the pixel of the image, and another dimenson for the color. That would look like $[3, x, y]$ where we have 3 color channels (RGB) and $x$ and $y$ for the height and width of the image (indicating we will have x * y different tuples of length 3).  \n",
    "\n",
    "Let's jump into the code. First, let's create a scalar: "
   ]
  },
  {
   "cell_type": "code",
   "execution_count": 7,
   "metadata": {},
   "outputs": [
    {
     "name": "stdout",
     "output_type": "stream",
     "text": [
      "tensor(7)\n",
      "0\n",
      "7\n"
     ]
    }
   ],
   "source": [
    "scalar = torch.tensor(7)\n",
    "print(scalar)\n",
    "\n",
    "# How many dimensions? \n",
    "print(scalar.ndim)\n",
    "\n",
    "# How to retrieve item? \n",
    "print(scalar.item())"
   ]
  },
  {
   "cell_type": "markdown",
   "metadata": {},
   "source": [
    "That wasn't so interesting. Let's create a vector: "
   ]
  },
  {
   "cell_type": "code",
   "execution_count": 9,
   "metadata": {},
   "outputs": [
    {
     "name": "stdout",
     "output_type": "stream",
     "text": [
      "tensor([1, 2, 3, 4])\n",
      "1\n",
      "torch.Size([4])\n"
     ]
    }
   ],
   "source": [
    "# Creating a vector!\n",
    "vector = torch.tensor([1, 2, 3, 4])\n",
    "print(vector)\n",
    "\n",
    "# Now we will get more useful information about the vector...\n",
    "print(vector.ndim)\n",
    "\n",
    "# And we can retrieve the shape of the vector...\n",
    "print(vector.shape)"
   ]
  }
 ],
 "metadata": {
  "kernelspec": {
   "display_name": "Python 3",
   "language": "python",
   "name": "python3"
  },
  "language_info": {
   "codemirror_mode": {
    "name": "ipython",
    "version": 3
   },
   "file_extension": ".py",
   "mimetype": "text/x-python",
   "name": "python",
   "nbconvert_exporter": "python",
   "pygments_lexer": "ipython3",
   "version": "3.10.12"
  }
 },
 "nbformat": 4,
 "nbformat_minor": 2
}
